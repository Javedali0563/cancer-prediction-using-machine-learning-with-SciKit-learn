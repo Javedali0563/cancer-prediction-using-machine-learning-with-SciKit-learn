{
 "cells": [
  {
   "cell_type": "markdown",
   "metadata": {},
   "source": [
    "## Importing the module"
   ]
  },
  {
   "cell_type": "code",
   "execution_count": 22,
   "metadata": {},
   "outputs": [],
   "source": [
    "from sklearn import datasets\n",
    "from sklearn import svm\n",
    "import sklearn\n",
    "from sklearn import metrics\n",
    "from sklearn.neighbors import KNeighborsClassifier\n",
    "from IPython.display import display,HTML"
   ]
  },
  {
   "cell_type": "markdown",
   "metadata": {},
   "source": [
    "## Load datasets from datasets module of sklearn"
   ]
  },
  {
   "cell_type": "code",
   "execution_count": 2,
   "metadata": {},
   "outputs": [],
   "source": [
    "cancer = datasets.load_breast_cancer()"
   ]
  },
  {
   "cell_type": "code",
   "execution_count": 3,
   "metadata": {},
   "outputs": [
    {
     "data": {
      "text/plain": [
       "array(['mean radius', 'mean texture', 'mean perimeter', 'mean area',\n",
       "       'mean smoothness', 'mean compactness', 'mean concavity',\n",
       "       'mean concave points', 'mean symmetry', 'mean fractal dimension',\n",
       "       'radius error', 'texture error', 'perimeter error', 'area error',\n",
       "       'smoothness error', 'compactness error', 'concavity error',\n",
       "       'concave points error', 'symmetry error',\n",
       "       'fractal dimension error', 'worst radius', 'worst texture',\n",
       "       'worst perimeter', 'worst area', 'worst smoothness',\n",
       "       'worst compactness', 'worst concavity', 'worst concave points',\n",
       "       'worst symmetry', 'worst fractal dimension'], dtype='<U23')"
      ]
     },
     "execution_count": 3,
     "metadata": {},
     "output_type": "execute_result"
    }
   ],
   "source": [
    "cancer.feature_names"
   ]
  },
  {
   "cell_type": "code",
   "execution_count": 4,
   "metadata": {},
   "outputs": [
    {
     "data": {
      "text/plain": [
       "array(['malignant', 'benign'], dtype='<U9')"
      ]
     },
     "execution_count": 4,
     "metadata": {},
     "output_type": "execute_result"
    }
   ],
   "source": [
    "cancer.target_names"
   ]
  },
  {
   "cell_type": "code",
   "execution_count": 5,
   "metadata": {},
   "outputs": [],
   "source": [
    "x = cancer.data\n",
    "y = cancer.target"
   ]
  },
  {
   "cell_type": "code",
   "execution_count": 6,
   "metadata": {},
   "outputs": [],
   "source": [
    "x_train, x_test, y_train, y_test = sklearn.model_selection.train_test_split(x,y , test_size = 0.1)"
   ]
  },
  {
   "cell_type": "code",
   "execution_count": 7,
   "metadata": {},
   "outputs": [],
   "source": [
    "classes = ['malignant', 'benign']"
   ]
  },
  {
   "cell_type": "code",
   "execution_count": 16,
   "metadata": {},
   "outputs": [
    {
     "data": {
      "text/plain": [
       "SVC(kernel='linear')"
      ]
     },
     "execution_count": 16,
     "metadata": {},
     "output_type": "execute_result"
    }
   ],
   "source": [
    "clf = svm.SVC(kernel = 'linear')\n",
    "clf.fit(x_train,y_train)"
   ]
  },
  {
   "cell_type": "code",
   "execution_count": 17,
   "metadata": {},
   "outputs": [],
   "source": [
    "y_predict = clf.predict(x_test)"
   ]
  },
  {
   "cell_type": "code",
   "execution_count": 18,
   "metadata": {},
   "outputs": [
    {
     "name": "stdout",
     "output_type": "stream",
     "text": [
      "0.9473684210526315\n"
     ]
    }
   ],
   "source": [
    "acc = metrics.accuracy_score(y_test,y_predict)\n",
    "print(acc)"
   ]
  },
  {
   "cell_type": "markdown",
   "metadata": {},
   "source": [
    "## Prediction of Type of cancer"
   ]
  },
  {
   "cell_type": "code",
   "execution_count": 26,
   "metadata": {},
   "outputs": [
    {
     "data": {
      "text/html": [
       "<table><tr><td>Actual Value</td><td>Predicted Value</td></tr><tr><td>benign</td><td>benign</td></tr><tr><td>benign</td><td>benign</td></tr><tr><td>malignant</td><td>malignant</td></tr><tr><td>benign</td><td>benign</td></tr><tr><td>benign</td><td>benign</td></tr><tr><td>benign</td><td>benign</td></tr><tr><td>benign</td><td>benign</td></tr><tr><td>malignant</td><td>malignant</td></tr><tr><td>benign</td><td>benign</td></tr><tr><td>benign</td><td>benign</td></tr><tr><td>malignant</td><td>malignant</td></tr><tr><td>benign</td><td>benign</td></tr><tr><td>malignant</td><td>malignant</td></tr><tr><td>benign</td><td>benign</td></tr><tr><td>benign</td><td>benign</td></tr><tr><td>benign</td><td>benign</td></tr><tr><td>benign</td><td>benign</td></tr><tr><td>benign</td><td>benign</td></tr><tr><td>benign</td><td>benign</td></tr><tr><td>benign</td><td>benign</td></tr><tr><td>benign</td><td>benign</td></tr><tr><td>benign</td><td>benign</td></tr><tr><td>malignant</td><td>malignant</td></tr><tr><td>malignant</td><td>malignant</td></tr><tr><td>benign</td><td>benign</td></tr><tr><td>malignant</td><td>malignant</td></tr><tr><td>malignant</td><td>malignant</td></tr><tr><td>benign</td><td>benign</td></tr><tr><td>benign</td><td>benign</td></tr><tr><td>malignant</td><td>malignant</td></tr><tr><td>benign</td><td>benign</td></tr><tr><td>benign</td><td>benign</td></tr><tr><td>malignant</td><td>malignant</td></tr><tr><td>benign</td><td>malignant</td></tr><tr><td>benign</td><td>benign</td></tr><tr><td>malignant</td><td>malignant</td></tr><tr><td>malignant</td><td>malignant</td></tr><tr><td>malignant</td><td>malignant</td></tr><tr><td>benign</td><td>benign</td></tr><tr><td>benign</td><td>benign</td></tr><tr><td>benign</td><td>malignant</td></tr><tr><td>malignant</td><td>malignant</td></tr><tr><td>malignant</td><td>benign</td></tr><tr><td>benign</td><td>benign</td></tr><tr><td>malignant</td><td>malignant</td></tr><tr><td>benign</td><td>benign</td></tr><tr><td>malignant</td><td>malignant</td></tr><tr><td>benign</td><td>benign</td></tr><tr><td>benign</td><td>benign</td></tr><tr><td>benign</td><td>benign</td></tr><tr><td>benign</td><td>benign</td></tr><tr><td>benign</td><td>benign</td></tr><tr><td>malignant</td><td>malignant</td></tr><tr><td>benign</td><td>benign</td></tr><tr><td>benign</td><td>benign</td></tr><tr><td>malignant</td><td>malignant</td></tr><tr><td>benign</td><td>benign</td></tr>"
      ],
      "text/plain": [
       "<IPython.core.display.HTML object>"
      ]
     },
     "metadata": {},
     "output_type": "display_data"
    }
   ],
   "source": [
    "html=\"<table>\"\n",
    "html+=\"<tr>\"\n",
    "html+=\"<td>Actual Value</td><td>Predicted Value</td>\"\n",
    "html+=\"</tr>\"\n",
    "for i in range(len(y_predict)):\n",
    "    html+=\"<tr>\"\n",
    "    html+=\"<td>%s</td>\"%(classes[y_test[i]])\n",
    "    html+=\"<td>%s</td>\"%(classes[y_predict[i]])\n",
    "    html+=\"</tr>\"\n",
    "display(HTML(html))"
   ]
  },
  {
   "cell_type": "code",
   "execution_count": null,
   "metadata": {},
   "outputs": [],
   "source": []
  }
 ],
 "metadata": {
  "kernelspec": {
   "display_name": "Python 3",
   "language": "python",
   "name": "python3"
  },
  "language_info": {
   "codemirror_mode": {
    "name": "ipython",
    "version": 3
   },
   "file_extension": ".py",
   "mimetype": "text/x-python",
   "name": "python",
   "nbconvert_exporter": "python",
   "pygments_lexer": "ipython3",
   "version": "3.8.0"
  }
 },
 "nbformat": 4,
 "nbformat_minor": 4
}
